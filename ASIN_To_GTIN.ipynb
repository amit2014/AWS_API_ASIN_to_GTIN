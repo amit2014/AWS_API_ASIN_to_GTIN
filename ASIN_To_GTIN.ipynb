{
 "cells": [
  {
   "cell_type": "markdown",
   "metadata": {},
   "source": [
    "# ASIN to GTIN\n",
    "## Summary\n",
    "The goal of this project is to use Python to take in a list of Amazon Standard Identification Numbers(ASINs) and retrieve the products Global Trade Item Number(GTIN) and/or MPN values from Amazon using the Amazon Product Advertising API."
   ]
  },
  {
   "cell_type": "markdown",
   "metadata": {},
   "source": [
    "## Import Libraries and Modules"
   ]
  },
  {
   "cell_type": "code",
   "execution_count": 1,
   "metadata": {},
   "outputs": [],
   "source": [
    "# import libraries\n",
    "import pandas as pd\n",
    "import bottlenose # Amazon Product Advertising API Python Library\n",
    "import re # Regular expression operations module\n",
    "import time # Time access and conversions module"
   ]
  },
  {
   "cell_type": "markdown",
   "metadata": {},
   "source": [
    "## Set Credentials for Amazon Product Advertising API\n",
    "Replaced with values of XXX for security purposes."
   ]
  },
  {
   "cell_type": "code",
   "execution_count": 33,
   "metadata": {},
   "outputs": [],
   "source": [
    "AWS_ACCESS_KEY_ID = \"XXX\"\n",
    "AWS_SECRET_ACCESS_KEY =\"XXX\"\n",
    "AWS_ASSOCIATE_TAG = \"XXX\""
   ]
  },
  {
   "cell_type": "markdown",
   "metadata": {},
   "source": [
    "## Get list of ASINs as pandas DataFrame\n",
    "List of ASINs is hosted on Google Drive as a CSV file. URL has been shortened for convenience. The path could be changed as needed."
   ]
  },
  {
   "cell_type": "code",
   "execution_count": 1,
   "metadata": {},
   "outputs": [
    {
     "name": "stdout",
     "output_type": "stream",
     "text": [
      "--2019-01-23 07:15:53--  https://bit.ly/2RM45f5\n",
      "Resolving bit.ly... 67.199.248.10, 67.199.248.11\n",
      "Connecting to bit.ly|67.199.248.10|:443... connected.\n",
      "HTTP request sent, awaiting response... 301 Moved Permanently\n",
      "Location: https://docs.google.com/spreadsheets/d/e/2PACX-1vSnchQ-ctWClVLy1R8xJhAhCHg7OgMqJCqukvhJNJJBQgbOGCcLDXKSdXeNSxG5XPC6n3DWphYp-bsZ/pub?gid=0&single=true&output=csv [following]\n",
      "--2019-01-23 07:15:53--  https://docs.google.com/spreadsheets/d/e/2PACX-1vSnchQ-ctWClVLy1R8xJhAhCHg7OgMqJCqukvhJNJJBQgbOGCcLDXKSdXeNSxG5XPC6n3DWphYp-bsZ/pub?gid=0&single=true&output=csv\n",
      "Resolving docs.google.com... 172.217.2.14\n",
      "Connecting to docs.google.com|172.217.2.14|:443... connected.\n",
      "HTTP request sent, awaiting response... 200 OK\n",
      "Length: unspecified [text/csv]\n",
      "Saving to: ‘asin_needs_data.csv’\n",
      "\n",
      "asin_needs_data.csv     [ <=>                ]   1.25K  --.-KB/s    in 0s      \n",
      "\n",
      "2019-01-23 07:15:54 (25.5 MB/s) - ‘asin_needs_data.csv’ saved [1282]\n",
      "\n",
      "Download complete!\n"
     ]
    }
   ],
   "source": [
    "# download list \n",
    "!wget -O asin_needs_data.csv 'https://bit.ly/2RM45f5'\n",
    "print('Download complete!')"
   ]
  },
  {
   "cell_type": "code",
   "execution_count": 4,
   "metadata": {},
   "outputs": [
    {
     "name": "stdout",
     "output_type": "stream",
     "text": [
      "         ASIN\n",
      "0  B004XC6GJ0\n",
      "1  B000P1DEHU\n",
      "2  B004NEUJKA\n",
      "3  B0011ULQNI\n",
      "4  B001O0DP48\n",
      "(107, 1)\n"
     ]
    }
   ],
   "source": [
    "# create pandas DataFrame with list from CSV file\n",
    "column_number_with_ASIN = 0 # set this variable to the numberical value of the csv column containing the desired ASINs\n",
    "asin_df = pd.read_csv('asin_needs_data.csv', header=0, sep=',', usecols=[column_number_with_ASIN]).astype('object')\n",
    "print(asin_df.head()) # preview DataFrame\n",
    "print(asin_df.shape) # print DataFrame Shape"
   ]
  },
  {
   "cell_type": "markdown",
   "metadata": {},
   "source": [
    "## Retrieve GTINs from Amazon Product Advertising API"
   ]
  },
  {
   "cell_type": "code",
   "execution_count": 5,
   "metadata": {},
   "outputs": [
    {
     "data": {
      "text/html": [
       "<div>\n",
       "<style scoped>\n",
       "    .dataframe tbody tr th:only-of-type {\n",
       "        vertical-align: middle;\n",
       "    }\n",
       "\n",
       "    .dataframe tbody tr th {\n",
       "        vertical-align: top;\n",
       "    }\n",
       "\n",
       "    .dataframe thead th {\n",
       "        text-align: right;\n",
       "    }\n",
       "</style>\n",
       "<table border=\"1\" class=\"dataframe\">\n",
       "  <thead>\n",
       "    <tr style=\"text-align: right;\">\n",
       "      <th></th>\n",
       "      <th>ASIN</th>\n",
       "      <th>UPC</th>\n",
       "      <th>EAN</th>\n",
       "      <th>ISBN</th>\n",
       "    </tr>\n",
       "  </thead>\n",
       "  <tbody>\n",
       "  </tbody>\n",
       "</table>\n",
       "</div>"
      ],
      "text/plain": [
       "Empty DataFrame\n",
       "Columns: [ASIN, UPC, EAN, ISBN]\n",
       "Index: []"
      ]
     },
     "execution_count": 5,
     "metadata": {},
     "output_type": "execute_result"
    }
   ],
   "source": [
    "# Constructing a DataFrame for GTIN data by ASIN\n",
    "asin_data_columns = ['ASIN', 'UPC', 'EAN', 'ISBN']\n",
    "asin_data_df = pd.DataFrame(columns=asin_data_columns)\n",
    "asin_data_df"
   ]
  },
  {
   "cell_type": "code",
   "execution_count": 6,
   "metadata": {},
   "outputs": [],
   "source": [
    "# function for Amazon AWS Product Advertising API Item Lookup Item Attributes\n",
    "def aws_gtin(asin):\n",
    "    amazon = bottlenose.Amazon(AWS_ACCESS_KEY_ID, AWS_SECRET_ACCESS_KEY, AWS_ASSOCIATE_TAG)\n",
    "    response = str(amazon.ItemLookup(ItemId=asin, ResponseGroup=\"ItemAttributes\"))\n",
    "    upc = re.findall('<UPC>(.*)</UPC>', response, flags=0)\n",
    "    ean = re.findall('<EAN>(.*)</EAN>', response, flags=0)\n",
    "    isbn = re.findall('<ISBN>(.*)</ISBN>', response, flags=0)\n",
    "    attrib_list_raw = upc, ean, isbn\n",
    "    attrib_list = [asin]\n",
    "    for attrib in attrib_list_raw:\n",
    "        if len(attrib) > 0:\n",
    "            attrib_list.append(attrib[0])\n",
    "        else:\n",
    "            attrib_list.append('')\n",
    "    attrib_dict = {'ASIN': attrib_list[0], 'UPC': attrib_list[1], 'EAN' : attrib_list[2], 'ISBN' : attrib_list[3]}\n",
    "    return(attrib_dict)"
   ]
  },
  {
   "cell_type": "code",
   "execution_count": 7,
   "metadata": {},
   "outputs": [
    {
     "name": "stdout",
     "output_type": "stream",
     "text": [
      "1 of 107: Getting GTIN data for B004XC6GJ0\n",
      "2 of 107: Getting GTIN data for B000P1DEHU\n",
      "3 of 107: Getting GTIN data for B004NEUJKA\n",
      "4 of 107: Getting GTIN data for B0011ULQNI\n",
      "5 of 107: Getting GTIN data for B001O0DP48\n",
      "6 of 107: Getting GTIN data for B00DQV2BDO\n",
      "7 of 107: Getting GTIN data for B000E1B2SO\n",
      "8 of 107: Getting GTIN data for B00005K3B1\n",
      "9 of 107: Getting GTIN data for B00000J0E6\n",
      "10 of 107: Getting GTIN data for B0001B86GI\n",
      "11 of 107: Getting GTIN data for B075X4G51V\n",
      "12 of 107: Getting GTIN data for B006N9ZZS4\n",
      "13 of 107: Getting GTIN data for B003A1LK1O\n",
      "14 of 107: Getting GTIN data for B00NIAYOX8\n",
      "15 of 107: Getting GTIN data for B00IO3AQC2\n",
      "16 of 107: Getting GTIN data for B0028MD7F8\n",
      "17 of 107: Getting GTIN data for B001DFH0C2\n",
      "18 of 107: Getting GTIN data for B001DFPR9A\n",
      "19 of 107: Getting GTIN data for B00A4U1XVQ\n",
      "20 of 107: Getting GTIN data for B0091HQHZU\n",
      "21 of 107: Getting GTIN data for B00WLJLYJY\n",
      "22 of 107: Getting GTIN data for B000IJEZI6\n",
      "23 of 107: Getting GTIN data for B00PVV543G\n",
      "24 of 107: Getting GTIN data for B077ZKF9XK\n",
      "25 of 107: Getting GTIN data for B0036RH2U0\n",
      "26 of 107: Getting GTIN data for B004FWOECY\n",
      "27 of 107: Getting GTIN data for B0057OCS9A\n",
      "28 of 107: Getting GTIN data for B0015F0A8G\n",
      "29 of 107: Getting GTIN data for B000046S41\n",
      "30 of 107: Getting GTIN data for B004RZJ60O\n",
      "31 of 107: Getting GTIN data for B00PM5XBDQ\n",
      "32 of 107: Getting GTIN data for B00A121WN6\n",
      "33 of 107: Getting GTIN data for B00066ZMXS\n",
      "34 of 107: Getting GTIN data for B000YUUYY8\n",
      "35 of 107: Getting GTIN data for B000KKVO7I\n",
      "36 of 107: Getting GTIN data for B00004UE0O\n",
      "37 of 107: Getting GTIN data for B00006CRVI\n",
      "38 of 107: Getting GTIN data for B00T0J998G\n",
      "39 of 107: Getting GTIN data for B000CCFAOC\n",
      "40 of 107: Getting GTIN data for B000I0YTGS\n",
      "41 of 107: Getting GTIN data for B000034DCF\n",
      "42 of 107: Getting GTIN data for B00008Z0IB\n",
      "43 of 107: Getting GTIN data for B00006IIOL\n",
      "44 of 107: Getting GTIN data for B000BC38LA\n",
      "45 of 107: Getting GTIN data for B0007Z70YM\n",
      "46 of 107: Getting GTIN data for B000692N0K\n",
      "47 of 107: Getting GTIN data for B000Q8UPKQ\n",
      "48 of 107: Getting GTIN data for B000BKIDZ8\n",
      "49 of 107: Getting GTIN data for B0001XOJAS\n",
      "50 of 107: Getting GTIN data for B003VUN2LU\n",
      "51 of 107: Getting GTIN data for B001DKMZ5E\n",
      "52 of 107: Getting GTIN data for 0974667315\n",
      "53 of 107: Getting GTIN data for B0001AVZ58\n",
      "54 of 107: Getting GTIN data for B004S5PBM0\n",
      "55 of 107: Getting GTIN data for B0057PERWU\n",
      "56 of 107: Getting GTIN data for B000X99VYE\n",
      "57 of 107: Getting GTIN data for B00000I1BS\n",
      "58 of 107: Getting GTIN data for B002I0J8RQ\n",
      "59 of 107: Getting GTIN data for B000HCL5QO\n",
      "60 of 107: Getting GTIN data for B00075GLUG\n",
      "61 of 107: Getting GTIN data for B004WLRR4K\n",
      "62 of 107: Getting GTIN data for B001ABP95E\n",
      "63 of 107: Getting GTIN data for B000GUV10W\n",
      "64 of 107: Getting GTIN data for B0087OXXGY\n",
      "65 of 107: Getting GTIN data for B0050SYYTK\n",
      "66 of 107: Getting GTIN data for 6304089767\n",
      "67 of 107: Getting GTIN data for B0068WXR4A\n",
      "68 of 107: Getting GTIN data for B00004VVP8\n",
      "69 of 107: Getting GTIN data for 1573305715\n",
      "70 of 107: Getting GTIN data for 0788800914\n",
      "71 of 107: Getting GTIN data for 0788803522\n",
      "72 of 107: Getting GTIN data for 6304168241\n",
      "73 of 107: Getting GTIN data for B00006JE51\n",
      "74 of 107: Getting GTIN data for 6304168136\n",
      "75 of 107: Getting GTIN data for 6301475917\n",
      "76 of 107: Getting GTIN data for 6303257844\n",
      "77 of 107: Getting GTIN data for 6304698305\n",
      "78 of 107: Getting GTIN data for 6300247163\n",
      "79 of 107: Getting GTIN data for B000056VP3\n",
      "80 of 107: Getting GTIN data for 6302415853\n",
      "81 of 107: Getting GTIN data for B000EFNVB6\n",
      "82 of 107: Getting GTIN data for 6301914090\n",
      "83 of 107: Getting GTIN data for 6302428122\n",
      "84 of 107: Getting GTIN data for 0783219105\n",
      "85 of 107: Getting GTIN data for 0790739305\n",
      "86 of 107: Getting GTIN data for 0790738074\n",
      "87 of 107: Getting GTIN data for 6302226899\n",
      "88 of 107: Getting GTIN data for B000068CNG\n",
      "89 of 107: Getting GTIN data for B00008Y2EN\n",
      "90 of 107: Getting GTIN data for B001DFOBIS\n",
      "91 of 107: Getting GTIN data for B001QPT1PI\n",
      "92 of 107: Getting GTIN data for B003BNY7R0\n",
      "93 of 107: Getting GTIN data for B00KZPD0D4\n",
      "94 of 107: Getting GTIN data for B005GY3GWO\n",
      "95 of 107: Getting GTIN data for B00997KEZQ\n",
      "96 of 107: Getting GTIN data for B0001BRIBM\n",
      "97 of 107: Getting GTIN data for B0000950SC\n",
      "98 of 107: Getting GTIN data for B001ELLMGU\n",
      "99 of 107: Getting GTIN data for B001K5NSYE\n",
      "100 of 107: Getting GTIN data for B0000C7AFN\n",
      "101 of 107: Getting GTIN data for B002VR6A9K\n",
      "102 of 107: Getting GTIN data for B000F49ZHU\n",
      "103 of 107: Getting GTIN data for B0073W703I\n",
      "104 of 107: Getting GTIN data for B00VU68JWE\n",
      "105 of 107: Getting GTIN data for B003V865PC\n",
      "106 of 107: Getting GTIN data for B008DGFPB2\n",
      "107 of 107: Getting GTIN data for B00000K132\n"
     ]
    }
   ],
   "source": [
    "# loop to make requests and record responses in DataFrame\n",
    "for i, asin in enumerate(asin_df['ASIN']):\n",
    "    print('{} of {}: Getting GTIN data for {}'.format(i + 1, len(asin_df['ASIN']), asin))\n",
    "    time.sleep(2)\n",
    "    asin_data_df = asin_data_df.append(aws_gtin(asin), ignore_index=True)"
   ]
  },
  {
   "cell_type": "code",
   "execution_count": 8,
   "metadata": {},
   "outputs": [
    {
     "data": {
      "text/html": [
       "<div>\n",
       "<style scoped>\n",
       "    .dataframe tbody tr th:only-of-type {\n",
       "        vertical-align: middle;\n",
       "    }\n",
       "\n",
       "    .dataframe tbody tr th {\n",
       "        vertical-align: top;\n",
       "    }\n",
       "\n",
       "    .dataframe thead th {\n",
       "        text-align: right;\n",
       "    }\n",
       "</style>\n",
       "<table border=\"1\" class=\"dataframe\">\n",
       "  <thead>\n",
       "    <tr style=\"text-align: right;\">\n",
       "      <th></th>\n",
       "      <th>ASIN</th>\n",
       "      <th>UPC</th>\n",
       "      <th>EAN</th>\n",
       "      <th>ISBN</th>\n",
       "    </tr>\n",
       "  </thead>\n",
       "  <tbody>\n",
       "    <tr>\n",
       "      <th>0</th>\n",
       "      <td>B004XC6GJ0</td>\n",
       "      <td>021111531467</td>\n",
       "      <td>0168141495601</td>\n",
       "      <td></td>\n",
       "    </tr>\n",
       "    <tr>\n",
       "      <th>1</th>\n",
       "      <td>B000P1DEHU</td>\n",
       "      <td>027242708952</td>\n",
       "      <td>0027242708952</td>\n",
       "      <td></td>\n",
       "    </tr>\n",
       "    <tr>\n",
       "      <th>2</th>\n",
       "      <td>B004NEUJKA</td>\n",
       "      <td>961613210272</td>\n",
       "      <td>0999993504940</td>\n",
       "      <td></td>\n",
       "    </tr>\n",
       "    <tr>\n",
       "      <th>3</th>\n",
       "      <td>B0011ULQNI</td>\n",
       "      <td></td>\n",
       "      <td></td>\n",
       "      <td></td>\n",
       "    </tr>\n",
       "    <tr>\n",
       "      <th>4</th>\n",
       "      <td>B001O0DP48</td>\n",
       "      <td>050633271667</td>\n",
       "      <td>0050633271667</td>\n",
       "      <td></td>\n",
       "    </tr>\n",
       "  </tbody>\n",
       "</table>\n",
       "</div>"
      ],
      "text/plain": [
       "         ASIN           UPC            EAN ISBN\n",
       "0  B004XC6GJ0  021111531467  0168141495601     \n",
       "1  B000P1DEHU  027242708952  0027242708952     \n",
       "2  B004NEUJKA  961613210272  0999993504940     \n",
       "3  B0011ULQNI                                  \n",
       "4  B001O0DP48  050633271667  0050633271667     "
      ]
     },
     "execution_count": 8,
     "metadata": {},
     "output_type": "execute_result"
    }
   ],
   "source": [
    "# preview GTIN data\n",
    "asin_data_df.head()"
   ]
  },
  {
   "cell_type": "markdown",
   "metadata": {},
   "source": [
    "## Indicate Completeness of Data\n",
    "It is desireable to have at least one value present for UPC, EAN, or ISBN. A boolean value will be assiged to a new column named \"Missing\". If the value is True, then the ASIN of that row is lacking UPC, EAN, and ISBN values."
   ]
  },
  {
   "cell_type": "code",
   "execution_count": 13,
   "metadata": {},
   "outputs": [
    {
     "data": {
      "text/html": [
       "<div>\n",
       "<style scoped>\n",
       "    .dataframe tbody tr th:only-of-type {\n",
       "        vertical-align: middle;\n",
       "    }\n",
       "\n",
       "    .dataframe tbody tr th {\n",
       "        vertical-align: top;\n",
       "    }\n",
       "\n",
       "    .dataframe thead th {\n",
       "        text-align: right;\n",
       "    }\n",
       "</style>\n",
       "<table border=\"1\" class=\"dataframe\">\n",
       "  <thead>\n",
       "    <tr style=\"text-align: right;\">\n",
       "      <th></th>\n",
       "      <th>ASIN</th>\n",
       "      <th>Missing</th>\n",
       "    </tr>\n",
       "  </thead>\n",
       "  <tbody>\n",
       "  </tbody>\n",
       "</table>\n",
       "</div>"
      ],
      "text/plain": [
       "Empty DataFrame\n",
       "Columns: [ASIN, Missing]\n",
       "Index: []"
      ]
     },
     "execution_count": 13,
     "metadata": {},
     "output_type": "execute_result"
    }
   ],
   "source": [
    "# Construct DataFrame for Missing value\n",
    "missing_data_columns = ['ASIN','Missing']\n",
    "asin_data_missing_df = pd.DataFrame(columns = missing_data_columns)\n",
    "asin_data_missing_df"
   ]
  },
  {
   "cell_type": "code",
   "execution_count": 14,
   "metadata": {},
   "outputs": [],
   "source": [
    "# loop to record missing value for each ASIN\n",
    "missing_data = []\n",
    "for row in asin_data_df.iterrows():\n",
    "    missing = True\n",
    "    if row[1][1] != '':\n",
    "        missing = False\n",
    "    elif row[1][2] != '':\n",
    "        missing = False\n",
    "    elif row[1][3] != '':\n",
    "        missing = False\n",
    "    missing_dict = {'ASIN': row[1][0], 'Missing' : missing}\n",
    "    asin_data_missing_df = asin_data_missing_df.append(missing_dict, ignore_index=True)"
   ]
  },
  {
   "cell_type": "code",
   "execution_count": 15,
   "metadata": {},
   "outputs": [
    {
     "data": {
      "text/html": [
       "<div>\n",
       "<style scoped>\n",
       "    .dataframe tbody tr th:only-of-type {\n",
       "        vertical-align: middle;\n",
       "    }\n",
       "\n",
       "    .dataframe tbody tr th {\n",
       "        vertical-align: top;\n",
       "    }\n",
       "\n",
       "    .dataframe thead th {\n",
       "        text-align: right;\n",
       "    }\n",
       "</style>\n",
       "<table border=\"1\" class=\"dataframe\">\n",
       "  <thead>\n",
       "    <tr style=\"text-align: right;\">\n",
       "      <th></th>\n",
       "      <th>ASIN</th>\n",
       "      <th>Missing</th>\n",
       "    </tr>\n",
       "  </thead>\n",
       "  <tbody>\n",
       "    <tr>\n",
       "      <th>0</th>\n",
       "      <td>B004XC6GJ0</td>\n",
       "      <td>False</td>\n",
       "    </tr>\n",
       "    <tr>\n",
       "      <th>1</th>\n",
       "      <td>B000P1DEHU</td>\n",
       "      <td>False</td>\n",
       "    </tr>\n",
       "    <tr>\n",
       "      <th>2</th>\n",
       "      <td>B004NEUJKA</td>\n",
       "      <td>False</td>\n",
       "    </tr>\n",
       "    <tr>\n",
       "      <th>3</th>\n",
       "      <td>B0011ULQNI</td>\n",
       "      <td>True</td>\n",
       "    </tr>\n",
       "    <tr>\n",
       "      <th>4</th>\n",
       "      <td>B001O0DP48</td>\n",
       "      <td>False</td>\n",
       "    </tr>\n",
       "  </tbody>\n",
       "</table>\n",
       "</div>"
      ],
      "text/plain": [
       "         ASIN Missing\n",
       "0  B004XC6GJ0   False\n",
       "1  B000P1DEHU   False\n",
       "2  B004NEUJKA   False\n",
       "3  B0011ULQNI    True\n",
       "4  B001O0DP48   False"
      ]
     },
     "execution_count": 15,
     "metadata": {},
     "output_type": "execute_result"
    }
   ],
   "source": [
    "# preview the DataFrame\n",
    "asin_data_missing_df.head()"
   ]
  },
  {
   "cell_type": "code",
   "execution_count": 17,
   "metadata": {},
   "outputs": [
    {
     "data": {
      "text/html": [
       "<div>\n",
       "<style scoped>\n",
       "    .dataframe tbody tr th:only-of-type {\n",
       "        vertical-align: middle;\n",
       "    }\n",
       "\n",
       "    .dataframe tbody tr th {\n",
       "        vertical-align: top;\n",
       "    }\n",
       "\n",
       "    .dataframe thead th {\n",
       "        text-align: right;\n",
       "    }\n",
       "</style>\n",
       "<table border=\"1\" class=\"dataframe\">\n",
       "  <thead>\n",
       "    <tr style=\"text-align: right;\">\n",
       "      <th></th>\n",
       "      <th>ASIN</th>\n",
       "      <th>UPC</th>\n",
       "      <th>EAN</th>\n",
       "      <th>ISBN</th>\n",
       "      <th>Missing</th>\n",
       "    </tr>\n",
       "  </thead>\n",
       "  <tbody>\n",
       "    <tr>\n",
       "      <th>0</th>\n",
       "      <td>B004XC6GJ0</td>\n",
       "      <td>021111531467</td>\n",
       "      <td>0168141495601</td>\n",
       "      <td></td>\n",
       "      <td>False</td>\n",
       "    </tr>\n",
       "    <tr>\n",
       "      <th>1</th>\n",
       "      <td>B000P1DEHU</td>\n",
       "      <td>027242708952</td>\n",
       "      <td>0027242708952</td>\n",
       "      <td></td>\n",
       "      <td>False</td>\n",
       "    </tr>\n",
       "    <tr>\n",
       "      <th>2</th>\n",
       "      <td>B004NEUJKA</td>\n",
       "      <td>961613210272</td>\n",
       "      <td>0999993504940</td>\n",
       "      <td></td>\n",
       "      <td>False</td>\n",
       "    </tr>\n",
       "    <tr>\n",
       "      <th>3</th>\n",
       "      <td>B0011ULQNI</td>\n",
       "      <td></td>\n",
       "      <td></td>\n",
       "      <td></td>\n",
       "      <td>True</td>\n",
       "    </tr>\n",
       "    <tr>\n",
       "      <th>4</th>\n",
       "      <td>B001O0DP48</td>\n",
       "      <td>050633271667</td>\n",
       "      <td>0050633271667</td>\n",
       "      <td></td>\n",
       "      <td>False</td>\n",
       "    </tr>\n",
       "  </tbody>\n",
       "</table>\n",
       "</div>"
      ],
      "text/plain": [
       "         ASIN           UPC            EAN ISBN Missing\n",
       "0  B004XC6GJ0  021111531467  0168141495601        False\n",
       "1  B000P1DEHU  027242708952  0027242708952        False\n",
       "2  B004NEUJKA  961613210272  0999993504940        False\n",
       "3  B0011ULQNI                                      True\n",
       "4  B001O0DP48  050633271667  0050633271667        False"
      ]
     },
     "execution_count": 17,
     "metadata": {},
     "output_type": "execute_result"
    }
   ],
   "source": [
    "# merge DataFrames\n",
    "asin_data_df = asin_data_df.merge(asin_data_missing_df, on='ASIN')\n",
    "# preview DataFrame\n",
    "asin_data_df.head()"
   ]
  },
  {
   "cell_type": "markdown",
   "metadata": {},
   "source": [
    "## Results"
   ]
  },
  {
   "cell_type": "code",
   "execution_count": 28,
   "metadata": {},
   "outputs": [
    {
     "name": "stdout",
     "output_type": "stream",
     "text": [
      "Number of ASINs lacking a GTIN: 16\n",
      "Success rate: 85.04672897196261%\n"
     ]
    }
   ],
   "source": [
    "# Count how many ASINs are missing a GTIN\n",
    "missing_count = asin_data_df[asin_data_df['Missing'] == True].shape[0]\n",
    "total_count = asin_data_df.shape[0]\n",
    "print('Number of ASINs lacking a GTIN: {}'.format(missing_count))\n",
    "print('Success rate: {}%'.format((total_count - missing_count) / total_count * 100))"
   ]
  },
  {
   "cell_type": "markdown",
   "metadata": {},
   "source": [
    "## Append Data to a Tab-separated values file\n",
    "Tab-separated values are preferable to Comma-separated values when pasting data to most spreadsheet applications. The mode is set to 'a' so that the resulting data is added to existing data rather than overwriting the existing data. This process might be used continually where the TSV file continues to grow."
   ]
  },
  {
   "cell_type": "code",
   "execution_count": 32,
   "metadata": {},
   "outputs": [
    {
     "name": "stdout",
     "output_type": "stream",
     "text": [
      "Export complete.\n"
     ]
    }
   ],
   "source": [
    "asin_data_df.to_csv('asin_gtin.tsv', sep='\\t' , index=False, mode='a')\n",
    "print('Export complete.')"
   ]
  }
 ],
 "metadata": {
  "kernelspec": {
   "display_name": "Python 3",
   "language": "python",
   "name": "python3"
  },
  "language_info": {
   "codemirror_mode": {
    "name": "ipython",
    "version": 3
   },
   "file_extension": ".py",
   "mimetype": "text/x-python",
   "name": "python",
   "nbconvert_exporter": "python",
   "pygments_lexer": "ipython3",
   "version": "3.6.4"
  }
 },
 "nbformat": 4,
 "nbformat_minor": 2
}
